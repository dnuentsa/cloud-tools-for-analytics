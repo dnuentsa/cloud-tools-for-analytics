{
  "nbformat": 4,
  "nbformat_minor": 0,
  "metadata": {
    "colab": {
      "provenance": []
    },
    "kernelspec": {
      "name": "python3",
      "display_name": "Python 3"
    },
    "language_info": {
      "name": "python"
    }
  },
  "cells": [
    {
      "cell_type": "code",
      "execution_count": 4,
      "metadata": {
        "id": "K0-ZDU46JxSl"
      },
      "outputs": [],
      "source": [
        "import zipfile\n",
        "import os\n",
        "import io\n",
        "import psycopg2\n",
        "import requests\n",
        "\n",
        "# Function to download zip file from a remote location\n",
        "def download_zip(url, save_path):\n",
        "    response = requests.get(url)\n",
        "    with open(save_path, 'wb') as f:\n",
        "        f.write(response.content)\n",
        "\n",
        "# Retrieve the postgres connection string from secrets\n",
        "from google.colab import userdata\n",
        "connection_string = userdata.get('postgres_connection_string')\n",
        "\n",
        "# Establish a connection to the database\n",
        "conn = psycopg2.connect(connection_string)\n",
        "\n",
        "# Create a cursor object to execute SQL queries\n",
        "cur = conn.cursor()\n",
        "\n",
        "# Path to the zip archive containing the dataset\n",
        "zip_file_url = \"https://github.com/dnuentsa/cloud-tools-for-analytics/raw/main/resources/postgresql/car_sharing_dataset.zip\"\n",
        "\n",
        "# Path to save the downloaded zip file\n",
        "zip_file_path = \"temp_zip_file.zip\"\n",
        "\n",
        "# Download the zip file from the remote location\n",
        "download_zip(zip_file_url, zip_file_path)\n",
        "\n",
        "# Extract SQL files from the zip archive\n",
        "with zipfile.ZipFile(zip_file_path, 'r') as zip_ref:\n",
        "    # Get list of files sorted alphabetically\n",
        "    sql_files = sorted(zip_ref.namelist())\n",
        "    print(sql_files)\n",
        "    # Iterate through sorted list of files\n",
        "    for filename in sql_files:\n",
        "        if filename.endswith(\".sql\"):\n",
        "            # Extract file\n",
        "            zip_ref.extract(filename, \"temp_sql_files\")\n",
        "\n",
        "            # Read SQL file\n",
        "            file_path = os.path.join(\"temp_sql_files\", filename)\n",
        "            with open(file_path, \"r\") as file:\n",
        "                sql_statements = file.read()\n",
        "\n",
        "            # Execute SQL statements\n",
        "            cur.execute(sql_statements)\n",
        "\n",
        "# Commit changes to the database\n",
        "conn.commit()\n",
        "\n",
        "# Close cursor and connection\n",
        "cur.close()\n",
        "conn.close()\n",
        "print(\"All Data have been inserted successfully in the remote database\")"
      ]
    }
  ]
}